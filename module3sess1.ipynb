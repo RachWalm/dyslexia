{
  "nbformat": 4,
  "nbformat_minor": 0,
  "metadata": {
    "colab": {
      "provenance": [],
      "authorship_tag": "ABX9TyPqJWuHXI2B/9AhbU+nlWgE",
      "include_colab_link": true
    },
    "kernelspec": {
      "name": "python3",
      "display_name": "Python 3"
    },
    "language_info": {
      "name": "python"
    }
  },
  "cells": [
    {
      "cell_type": "markdown",
      "metadata": {
        "id": "view-in-github",
        "colab_type": "text"
      },
      "source": [
        "<a href=\"https://colab.research.google.com/github/RachWalm/dyslexia/blob/main/module3sess1.ipynb\" target=\"_parent\"><img src=\"https://colab.research.google.com/assets/colab-badge.svg\" alt=\"Open In Colab\"/></a>"
      ]
    },
    {
      "cell_type": "code",
      "execution_count": null,
      "metadata": {
        "colab": {
          "base_uri": "https://localhost:8080/"
        },
        "id": "jYa9RaV2t0cA",
        "outputId": "edb68208-fab8-48d7-cf2c-e1f685fce837"
      },
      "outputs": [
        {
          "output_type": "stream",
          "name": "stdout",
          "text": [
            "This is an even number\n"
          ]
        }
      ],
      "source": [
        "x=10\n",
        "if x%2 == 0:\n",
        "  print(\"This is an even number\")"
      ]
    },
    {
      "cell_type": "code",
      "source": [
        "x=11\n",
        "if x%2 == 0:\n",
        "  print(\"This is an even number\")"
      ],
      "metadata": {
        "id": "6twlZInbu64H"
      },
      "execution_count": null,
      "outputs": []
    },
    {
      "cell_type": "code",
      "source": [
        "x=7\n",
        "if x%2 == 0:\n",
        "  print(\"This is an even number\")\n",
        "else:\n",
        "  print (\"odd\")"
      ],
      "metadata": {
        "colab": {
          "base_uri": "https://localhost:8080/"
        },
        "id": "Mz4AxQLgvCWQ",
        "outputId": "a4132966-1f27-4871-8006-ef0a4bcb5b83"
      },
      "execution_count": null,
      "outputs": [
        {
          "output_type": "stream",
          "name": "stdout",
          "text": [
            "odd\n"
          ]
        }
      ]
    },
    {
      "cell_type": "code",
      "source": [
        "a=15\n",
        "b=12\n",
        "if a==b:\n",
        "  print(\"equal\")\n",
        "elif a>b:\n",
        "  print(\"first greater\")\n",
        "else:\n",
        "  print(\"second greater\")"
      ],
      "metadata": {
        "colab": {
          "base_uri": "https://localhost:8080/"
        },
        "id": "fC9FTfEQvXbS",
        "outputId": "d9616aa6-9826-4ef3-c8c3-31a5d5f363c6"
      },
      "execution_count": null,
      "outputs": [
        {
          "output_type": "stream",
          "name": "stdout",
          "text": [
            "first greater\n"
          ]
        }
      ]
    },
    {
      "cell_type": "code",
      "source": [
        "a=15\n",
        "b=-2\n",
        "if a==b:\n",
        "  print(\"equal\")\n",
        "elif a>b:\n",
        "  print(\"first greater\")\n",
        "elif a<b:\n",
        "  print(\"second greater\")\n",
        "else:\n",
        "  print(\"Not sound input\")"
      ],
      "metadata": {
        "colab": {
          "base_uri": "https://localhost:8080/"
        },
        "id": "LewA32UtwmJV",
        "outputId": "c8103c46-7c1f-4c97-cd15-3aca4f96b64a"
      },
      "execution_count": null,
      "outputs": [
        {
          "output_type": "stream",
          "name": "stdout",
          "text": [
            "first greater\n"
          ]
        }
      ]
    },
    {
      "cell_type": "code",
      "source": [
        "c=-15\n",
        "if c == 0:\n",
        "  print(\"Zero\")\n",
        "elif c > 0:\n",
        "  print(\"positive\")\n",
        "elif c < 0:\n",
        "  print(\"negative\")\n",
        "else:\n",
        "  print (\"invalid input\")"
      ],
      "metadata": {
        "colab": {
          "base_uri": "https://localhost:8080/"
        },
        "id": "stSBBYHPw6L2",
        "outputId": "c88b707f-159a-4dc9-96f2-766a54fe564b"
      },
      "execution_count": null,
      "outputs": [
        {
          "output_type": "stream",
          "name": "stdout",
          "text": [
            "negative\n"
          ]
        }
      ]
    },
    {
      "cell_type": "code",
      "source": [
        "for item in [1,2,3,4,5,6,7,5]:\n",
        "  print(\"The iteration number is {}\". format(item))"
      ],
      "metadata": {
        "id": "MTBB-8We0Hiw",
        "colab": {
          "base_uri": "https://localhost:8080/"
        },
        "outputId": "fd719a91-efd7-46dd-e6e1-2195ce71a9ea"
      },
      "execution_count": null,
      "outputs": [
        {
          "output_type": "stream",
          "name": "stdout",
          "text": [
            "The iteration number is 1\n",
            "The iteration number is 2\n",
            "The iteration number is 3\n",
            "The iteration number is 4\n",
            "The iteration number is 5\n",
            "The iteration number is 6\n",
            "The iteration number is 7\n",
            "The iteration number is 5\n"
          ]
        }
      ]
    },
    {
      "cell_type": "code",
      "source": [
        "for item in range (0,6):\n",
        "  print(\"The iteration number is {}\". format(item))"
      ],
      "metadata": {
        "colab": {
          "base_uri": "https://localhost:8080/"
        },
        "id": "nlxRSF4L2NWP",
        "outputId": "dcac74a2-9652-4a18-a6f0-ebd4ce5128cb"
      },
      "execution_count": null,
      "outputs": [
        {
          "output_type": "stream",
          "name": "stdout",
          "text": [
            "The iteration number is 0\n",
            "The iteration number is 1\n",
            "The iteration number is 2\n",
            "The iteration number is 3\n",
            "The iteration number is 4\n",
            "The iteration number is 5\n"
          ]
        }
      ]
    },
    {
      "cell_type": "code",
      "source": [
        "for item in [1,2,3,4,5,6,7,5]:\n",
        "  print(item)"
      ],
      "metadata": {
        "colab": {
          "base_uri": "https://localhost:8080/"
        },
        "id": "cDXtuES72dkB",
        "outputId": "13304d45-280f-4bca-e16b-cbf413ab6fdc"
      },
      "execution_count": null,
      "outputs": [
        {
          "output_type": "stream",
          "name": "stdout",
          "text": [
            "1\n",
            "2\n",
            "3\n",
            "4\n",
            "5\n",
            "6\n",
            "7\n",
            "5\n"
          ]
        }
      ]
    },
    {
      "cell_type": "code",
      "source": [
        "for item in [1,2,3,4,5,6,7,8,9,10,11,12]:\n",
        "  print(\"12 x {} = \".format (item))"
      ],
      "metadata": {
        "colab": {
          "base_uri": "https://localhost:8080/"
        },
        "id": "bwDHEBpQ2qCi",
        "outputId": "63c0809e-3e8e-4fc5-a35d-93c12e1703b8"
      },
      "execution_count": null,
      "outputs": [
        {
          "output_type": "stream",
          "name": "stdout",
          "text": [
            "12 x 1 = \n",
            "12 x 2 = \n",
            "12 x 3 = \n",
            "12 x 4 = \n",
            "12 x 5 = \n",
            "12 x 6 = \n",
            "12 x 7 = \n",
            "12 x 8 = \n",
            "12 x 9 = \n",
            "12 x 10 = \n",
            "12 x 11 = \n",
            "12 x 12 = \n"
          ]
        }
      ]
    },
    {
      "cell_type": "code",
      "source": [
        "for item in [1,2,3,4,5,6,7,8,9,10,11,12]:\n",
        "  print(\"12 x {} = \".format (item), item*12)"
      ],
      "metadata": {
        "colab": {
          "base_uri": "https://localhost:8080/"
        },
        "id": "2b7MZrEr3Fh6",
        "outputId": "1f310944-38bf-4d64-e85c-faac8608a21d"
      },
      "execution_count": null,
      "outputs": [
        {
          "output_type": "stream",
          "name": "stdout",
          "text": [
            "12 x 1 =  12\n",
            "12 x 2 =  24\n",
            "12 x 3 =  36\n",
            "12 x 4 =  48\n",
            "12 x 5 =  60\n",
            "12 x 6 =  72\n",
            "12 x 7 =  84\n",
            "12 x 8 =  96\n",
            "12 x 9 =  108\n",
            "12 x 10 =  120\n",
            "12 x 11 =  132\n",
            "12 x 12 =  144\n"
          ]
        }
      ]
    },
    {
      "cell_type": "code",
      "source": [
        "target_val = 5\n",
        "inter_var = 0\n",
        "while inter_var < target_val:\n",
        "  print (\"Interation number is {} which is less than tareget value {}\".format (inter_var, target_val))\n",
        "  inter_var = inter_var+1"
      ],
      "metadata": {
        "colab": {
          "base_uri": "https://localhost:8080/"
        },
        "id": "n_tPfXLm3O2o",
        "outputId": "72e3c960-2577-4d58-a5a8-fb409494e8fd"
      },
      "execution_count": null,
      "outputs": [
        {
          "output_type": "stream",
          "name": "stdout",
          "text": [
            "Interation number is 0 which is less than tareget value 5\n",
            "Interation number is 1 which is less than tareget value 5\n",
            "Interation number is 2 which is less than tareget value 5\n",
            "Interation number is 3 which is less than tareget value 5\n",
            "Interation number is 4 which is less than tareget value 5\n"
          ]
        }
      ]
    },
    {
      "cell_type": "code",
      "source": [
        "target_val = 5\n",
        "inter_var = 0\n",
        "while inter_var < target_val:\n",
        "  print (\"Interation number is {} which is less than tareget value {}\".format (inter_var, target_val))\n",
        "  inter_var = inter_var+1\n",
        "print(\"finish\")"
      ],
      "metadata": {
        "colab": {
          "base_uri": "https://localhost:8080/"
        },
        "id": "PnRfM1nl3568",
        "outputId": "7c7ad4bd-0294-4b45-d968-3bffff5c3f4a"
      },
      "execution_count": null,
      "outputs": [
        {
          "output_type": "stream",
          "name": "stdout",
          "text": [
            "Interation number is 0 which is less than tareget value 5\n",
            "Interation number is 1 which is less than tareget value 5\n",
            "Interation number is 2 which is less than tareget value 5\n",
            "Interation number is 3 which is less than tareget value 5\n",
            "Interation number is 4 which is less than tareget value 5\n",
            "finish\n"
          ]
        }
      ]
    },
    {
      "cell_type": "code",
      "source": [
        "target_val = 5\n",
        "inter_var = 0\n",
        "while inter_var < target_val:\n",
        "  print (\"Interation number is {} which is less than tareget value {}\".format (inter_var, target_val))\n",
        "  inter_var = inter_var+1\n",
        "  print(\"finish\")"
      ],
      "metadata": {
        "colab": {
          "base_uri": "https://localhost:8080/"
        },
        "id": "J9h65IIc4IEh",
        "outputId": "6dea8624-0cef-486f-c291-45689638aa6d"
      },
      "execution_count": null,
      "outputs": [
        {
          "output_type": "stream",
          "name": "stdout",
          "text": [
            "Interation number is 0 which is less than tareget value 5\n",
            "finish\n",
            "Interation number is 1 which is less than tareget value 5\n",
            "finish\n",
            "Interation number is 2 which is less than tareget value 5\n",
            "finish\n",
            "Interation number is 3 which is less than tareget value 5\n",
            "finish\n",
            "Interation number is 4 which is less than tareget value 5\n",
            "finish\n"
          ]
        }
      ]
    },
    {
      "cell_type": "code",
      "source": [
        "for i in range(1,5):\n",
        "  for j in range (1, 11):\n",
        "    print (i*j, end = \" \")\n",
        "  print (\"between outer loop\")\n",
        "print (\"after both loops\")"
      ],
      "metadata": {
        "colab": {
          "base_uri": "https://localhost:8080/"
        },
        "id": "Dri75DXU61Gt",
        "outputId": "4c60082c-8f7a-419b-bddf-4b1c75066547"
      },
      "execution_count": null,
      "outputs": [
        {
          "output_type": "stream",
          "name": "stdout",
          "text": [
            "1 2 3 4 5 6 7 8 9 10 between outer loop\n",
            "2 4 6 8 10 12 14 16 18 20 between outer loop\n",
            "3 6 9 12 15 18 21 24 27 30 between outer loop\n",
            "4 8 12 16 20 24 28 32 36 40 between outer loop\n",
            "after both loops\n"
          ]
        }
      ]
    },
    {
      "cell_type": "code",
      "source": [
        "for i in range(1,5):\n",
        "  for j in range (1, 11):\n",
        "    print (i*j, end = \"_\")\n",
        "  print (\"between outer loop\")\n",
        "print (\"after both loops\")"
      ],
      "metadata": {
        "colab": {
          "base_uri": "https://localhost:8080/"
        },
        "id": "LeavFYIn8Tow",
        "outputId": "719af3ce-e8da-40fd-e4b9-608766abe7c6"
      },
      "execution_count": null,
      "outputs": [
        {
          "output_type": "stream",
          "name": "stdout",
          "text": [
            "1_2_3_4_5_6_7_8_9_10_between outer loop\n",
            "2_4_6_8_10_12_14_16_18_20_between outer loop\n",
            "3_6_9_12_15_18_21_24_27_30_between outer loop\n",
            "4_8_12_16_20_24_28_32_36_40_between outer loop\n",
            "after both loops\n"
          ]
        }
      ]
    },
    {
      "cell_type": "code",
      "source": [
        "target_val = 5\n",
        "inter_var = 0\n",
        "while inter_var < target_val:\n",
        "  print (\"Interation number is {} which is less than tareget value {}\".format (inter_var, target_val))\n",
        "  inter_var = inter_var+1\n",
        "  if inter_var ==2:\n",
        "    print (\"break condition met\")\n",
        "    break;\n",
        "  print(\"finish\")"
      ],
      "metadata": {
        "colab": {
          "base_uri": "https://localhost:8080/"
        },
        "id": "WOM7U47L8mOG",
        "outputId": "e1d64754-f4ed-4e3b-8a9c-ad1d88659618"
      },
      "execution_count": null,
      "outputs": [
        {
          "output_type": "stream",
          "name": "stdout",
          "text": [
            "Interation number is 0 which is less than tareget value 5\n",
            "finish\n",
            "Interation number is 1 which is less than tareget value 5\n",
            "break condition met\n"
          ]
        }
      ]
    },
    {
      "cell_type": "code",
      "source": [
        "target_val = 5\n",
        "inter_var = 0\n",
        "while inter_var < target_val:\n",
        "  inter_var = inter_var+1\n",
        "  if inter_var ==2:\n",
        "    continue\n",
        "  print (\"Interation number is {} which is less than tareget value {}\".format (inter_var, target_val))\n",
        "  print(\"finish\")"
      ],
      "metadata": {
        "colab": {
          "base_uri": "https://localhost:8080/"
        },
        "id": "w-hZabA-9JED",
        "outputId": "f737a7da-b623-4559-f810-5551c8df44c3"
      },
      "execution_count": null,
      "outputs": [
        {
          "output_type": "stream",
          "name": "stdout",
          "text": [
            "Interation number is 1 which is less than tareget value 5\n",
            "finish\n",
            "Interation number is 3 which is less than tareget value 5\n",
            "finish\n",
            "Interation number is 4 which is less than tareget value 5\n",
            "finish\n",
            "Interation number is 5 which is less than tareget value 5\n",
            "finish\n"
          ]
        }
      ]
    },
    {
      "cell_type": "markdown",
      "source": [
        "lists are done in the slides quite well"
      ],
      "metadata": {
        "id": "E4Jr-kytBx2T"
      }
    },
    {
      "cell_type": "code",
      "source": [
        "mylist =[\"mike\", \"sean\"]\n",
        "if \"Zubair\" in mylist:\n",
        "  print (\"name in list\")\n",
        "else:\n",
        "  print(\"name not list\")"
      ],
      "metadata": {
        "colab": {
          "base_uri": "https://localhost:8080/"
        },
        "id": "WYggw62sCA5k",
        "outputId": "98eeba53-bb55-49e7-c732-313de3691422"
      },
      "execution_count": null,
      "outputs": [
        {
          "output_type": "stream",
          "name": "stdout",
          "text": [
            "name not list\n"
          ]
        }
      ]
    },
    {
      "cell_type": "code",
      "source": [
        "mylist =[\"mike\", \"sean\"]\n",
        "if \"Zubair\" not in mylist:\n",
        "  print (\"name not list\")\n",
        "else:\n",
        "  print(\"name in list\")"
      ],
      "metadata": {
        "colab": {
          "base_uri": "https://localhost:8080/"
        },
        "id": "QBeNHtGyCm5q",
        "outputId": "f3cd3ddc-487b-4965-9902-30aa3aed10d1"
      },
      "execution_count": null,
      "outputs": [
        {
          "output_type": "stream",
          "name": "stdout",
          "text": [
            "name not list\n"
          ]
        }
      ]
    },
    {
      "cell_type": "code",
      "source": [
        "rachlist = [\"red\", \"blue\", \"green\", \"purple\"]\n",
        "new = \"orange\"\n",
        "if new in rachlist:\n",
        "  print(\"color in list\")\n",
        "else: rachlist.append (new)\n",
        "print(rachlist)"
      ],
      "metadata": {
        "colab": {
          "base_uri": "https://localhost:8080/"
        },
        "id": "ObYkzyPtEzmh",
        "outputId": "a077415d-6bd5-4009-88eb-92d5815b66f5"
      },
      "execution_count": null,
      "outputs": [
        {
          "output_type": "stream",
          "name": "stdout",
          "text": [
            "['red', 'blue', 'green', 'purple', 'orange']\n"
          ]
        }
      ]
    },
    {
      "cell_type": "code",
      "source": [
        "word = \"bristol\"\n",
        "\n",
        "mystring = [letter.upper() for letter in word]\n",
        "print(mystring)"
      ],
      "metadata": {
        "colab": {
          "base_uri": "https://localhost:8080/"
        },
        "id": "WwIfjqxjKPtQ",
        "outputId": "ebe61418-a709-4969-bc9a-5fee33b7ef06"
      },
      "execution_count": null,
      "outputs": [
        {
          "output_type": "stream",
          "name": "stdout",
          "text": [
            "['B', 'R', 'I', 'S', 'T', 'O', 'L']\n"
          ]
        }
      ]
    },
    {
      "cell_type": "code",
      "source": [
        "list(word.upper())"
      ],
      "metadata": {
        "colab": {
          "base_uri": "https://localhost:8080/"
        },
        "id": "rrHWVhJ7Ni5b",
        "outputId": "19ccf977-02b1-4361-9c70-298f216bd768"
      },
      "execution_count": null,
      "outputs": [
        {
          "output_type": "execute_result",
          "data": {
            "text/plain": [
              "['B', 'R', 'I', 'S', 'T', 'O', 'L']"
            ]
          },
          "metadata": {},
          "execution_count": 51
        }
      ]
    },
    {
      "cell_type": "code",
      "source": [
        "nest = [[1,2,3,4],[5,6,7],['a','b','c'],['d','e']]"
      ],
      "metadata": {
        "id": "Awq8-E7wSGkQ"
      },
      "execution_count": null,
      "outputs": []
    },
    {
      "cell_type": "code",
      "source": [
        "newlist = []\n",
        "for x in range(len(nest)):\n",
        "  for y in range (len(nest[x])):\n",
        "    newlist.append(nest [x][y])\n",
        "print (newlist)"
      ],
      "metadata": {
        "colab": {
          "base_uri": "https://localhost:8080/"
        },
        "id": "JM-c6TYiSfjr",
        "outputId": "32e540eb-032a-4339-9d20-4be0d256caac"
      },
      "execution_count": null,
      "outputs": [
        {
          "output_type": "stream",
          "name": "stdout",
          "text": [
            "[1, 2, 3, 4, 5, 6, 7, 'a', 'b', 'c', 'd', 'e']\n"
          ]
        }
      ]
    },
    {
      "cell_type": "code",
      "source": [
        "mydict = {\n",
        "    \"employee\" : \"Zara\",\n",
        "    \"department\" : \"Operations\",\n",
        "    \"last salary\" : 50000,\n",
        "    \"status\" : \"permanent\",\n",
        "    \"level\" : 3\n",
        "}\n"
      ],
      "metadata": {
        "id": "gsd04yqsaEp2"
      },
      "execution_count": null,
      "outputs": []
    },
    {
      "cell_type": "code",
      "source": [
        "mydict.update ({\"last salary\" : 20000})\n",
        "for keys, values in mydict.items():\n",
        "  print(keys,values)"
      ],
      "metadata": {
        "colab": {
          "base_uri": "https://localhost:8080/"
        },
        "id": "xhv78wiVa6jl",
        "outputId": "8bc4da12-6058-4981-c96a-1a1af610cf10"
      },
      "execution_count": null,
      "outputs": [
        {
          "output_type": "stream",
          "name": "stdout",
          "text": [
            "employee Zara\n",
            "department Operations\n",
            "last salary 20000\n",
            "status permanent\n",
            "level 3\n"
          ]
        }
      ]
    },
    {
      "cell_type": "code",
      "source": [
        "for keys, values in mydict.items():\n",
        "  print(keys,values)"
      ],
      "metadata": {
        "colab": {
          "base_uri": "https://localhost:8080/"
        },
        "id": "f7uu1BmMaPsI",
        "outputId": "3bdcd99f-d652-40cd-e408-77430aa4ab2a"
      },
      "execution_count": null,
      "outputs": [
        {
          "output_type": "stream",
          "name": "stdout",
          "text": [
            "employee Zara\n",
            "department Operations\n",
            "last salary 50000\n",
            "status permanent\n",
            "level 3\n"
          ]
        }
      ]
    },
    {
      "cell_type": "code",
      "source": [
        "remove =\"employee\"\n",
        "mydict.pop(remove)\n",
        "for keys, values in mydict.items():\n",
        "  print(keys,values)"
      ],
      "metadata": {
        "colab": {
          "base_uri": "https://localhost:8080/"
        },
        "id": "r82jfBX3ai2k",
        "outputId": "874f50fa-b77a-4365-fa02-a954b993befa"
      },
      "execution_count": null,
      "outputs": [
        {
          "output_type": "stream",
          "name": "stdout",
          "text": [
            "department Operations\n",
            "last salary 50000\n",
            "status permanent\n",
            "level 3\n"
          ]
        }
      ]
    }
  ]
}